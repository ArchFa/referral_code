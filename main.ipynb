{
 "cells": [
  {
   "cell_type": "code",
   "execution_count": 1,
   "metadata": {},
   "outputs": [],
   "source": [
    "import pandas as pd\n",
    "import streamlit as st\n",
    "from collections import Counter\n",
    "from PIL import Image"
   ]
  },
  {
   "cell_type": "code",
   "execution_count": 3,
   "metadata": {},
   "outputs": [],
   "source": [
    "# im = Image.open(\"./logo_ugry.png\")\n",
    "# st.set_page_config(page_title=\"Количество созданных задач\", page_icon=im)"
   ]
  },
  {
   "cell_type": "code",
   "execution_count": 5,
   "metadata": {},
   "outputs": [],
   "source": [
    "st.title(\"Промокоды\")\n",
    "st.write(\"Количество созданных задач для каждого просокода, время между созданием\")\n",
    "\n",
    "\n",
    "uploaded_file = st.file_uploader(\"Выбирете файл\")\n",
    "\n",
    "\n",
    "if uploaded_file is not None:\n",
    "     df = pd.read_csv(uploaded_file, sep='|')\n",
    "     df.columns = [\n",
    "        'refferal_code',\n",
    "        'id',\n",
    "        'created_at'\n",
    "        ]\n",
    "\n",
    "     # изменение типов\n",
    "     df['created_at'] = pd.to_datetime(df['created_at'], format='%Y-%m-%d %H:%M:%S')\n",
    "\n",
    "     # удаление пропусков, которые появляются из за особенностей выгрузки\n",
    "     df = df.dropna()\n",
    "     file_container = st.expander(\"Check your uploaded .csv\")   \n",
    "     st.write(df)\n",
    "else:\n",
    "    st.info(\n",
    "        f\"\"\"\n",
    "             👆 Загрузите файл с расширением csv. В файле должны стого содержаться следующие столбцы:\n",
    "             - реферальный код\n",
    "             - id задачи\n",
    "             - время создания задачи\n",
    "             \"\"\"\n",
    "    )\n",
    "    st.stop()"
   ]
  },
  {
   "cell_type": "code",
   "execution_count": 6,
   "metadata": {},
   "outputs": [],
   "source": [
    "# df = pd.read_csv('/Users/arturfattahov/Desktop/offers_referral_codes_2021_09_15__2022_03_15.csv', sep='|')"
   ]
  },
  {
   "cell_type": "code",
   "execution_count": 9,
   "metadata": {},
   "outputs": [],
   "source": [
    "df.columns = ['refferal_code', 'id', 'created_at']\n",
    "df = df.dropna()\n",
    "df['refferal_code'] = df['refferal_code'].str.strip()\n",
    "df['created_at'] = pd.to_datetime(df['created_at'], format='%Y-%m-%d %H:%M:%S')"
   ]
  },
  {
   "cell_type": "code",
   "execution_count": 11,
   "metadata": {},
   "outputs": [],
   "source": [
    "df = df.sort_values(by=['refferal_code', 'created_at'])"
   ]
  },
  {
   "cell_type": "code",
   "execution_count": 14,
   "metadata": {},
   "outputs": [],
   "source": [
    "st.write(\"# Количество созданных задач по промокоду\")"
   ]
  },
  {
   "cell_type": "code",
   "execution_count": 16,
   "metadata": {},
   "outputs": [],
   "source": [
    "display_all_task = st.checkbox(\n",
    "    \"Отобразить количество задач по каждому промокоду\", False, help=\"Отобразится количество созданных задач по каждому промокоду\"\n",
    ")"
   ]
  },
  {
   "cell_type": "code",
   "execution_count": 17,
   "metadata": {},
   "outputs": [],
   "source": [
    "if display_all_task:\n",
    "    st.write(df['refferal_code'].value_counts())"
   ]
  },
  {
   "cell_type": "code",
   "execution_count": null,
   "metadata": {},
   "outputs": [],
   "source": []
  }
 ],
 "metadata": {
  "interpreter": {
   "hash": "aee8b7b246df8f9039afb4144a1f6fd8d2ca17a180786b69acc140d282b71a49"
  },
  "kernelspec": {
   "display_name": "Python 3.10.4 64-bit",
   "language": "python",
   "name": "python3"
  },
  "language_info": {
   "codemirror_mode": {
    "name": "ipython",
    "version": 3
   },
   "file_extension": ".py",
   "mimetype": "text/x-python",
   "name": "python",
   "nbconvert_exporter": "python",
   "pygments_lexer": "ipython3",
   "version": "3.10.4"
  },
  "orig_nbformat": 4
 },
 "nbformat": 4,
 "nbformat_minor": 2
}
